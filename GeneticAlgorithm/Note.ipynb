{
 "cells": [
  {
   "cell_type": "markdown",
   "metadata": {},
   "source": [
    "# Giới thiệu về Thuật toán Genetic Algorithm - GA"
   ]
  },
  {
   "cell_type": "markdown",
   "metadata": {},
   "source": [
    "## Mã giả:\n",
    "\n",
    "```plaintext\n",
    "begin\n",
    "|   Khởi tạo quần thể có N kiểu gen;\n",
    "|   Tính độ thích nghi (fitness) của từng cá thể;\n",
    "|   while (chưa đạt điều kiện dừng) do:\n",
    "|   |   Chọn các cá thể từ quần thể hiện tại làm cá thể cha mẹ;\n",
    "|   |   while (chưa đạt N cá thể con) do:\n",
    "|   |   |   Tiến hành lai ghép (crossover) với xác suất p_c;\n",
    "|   |   |   Tiến hành đột biến (mutation) cá thể con với xác suất p_m;\n",
    "|   |   end\n",
    "|   |   Chọn N cá thể từ quần thể mới;\n",
    "|   end\n",
    "end"
   ]
  },
  {
   "cell_type": "markdown",
   "metadata": {},
   "source": [
    "## Các kiểu mã hóa.\n",
    "\n",
    "\n"
   ]
  },
  {
   "cell_type": "markdown",
   "metadata": {},
   "source": [
    "### Mã hóa nhị phân\n",
    "Ví dụ: Bài toán cái túi - **Knapsack Problem - KP**  \n",
    "Cho n đồ vật với cân nặng và $w_i$ và giá trị sử dụng là $v_i$, biết không thể mang quá $capacity$, hãy tính giá trị lớn nhất có thể mang.  \n",
    "  \n",
    "Mã hóa lời giải cho bài toán là một chuỗi bit, với $b_i$ là trạng thái tương ứng với đồ vật có giá trị $v_i$ và cân nặng $w_i$, với $1$ thể hiện mang theo và $0$ thì ngược lại.  \n",
    "\n",
    "\n",
    "| Đồ vật  | 1 | 2 | 3 | 4 | 5 |\n",
    "|:-------:|:-:|:-:|:-:|:-:|:-:|\n",
    "| $v_i$   | 1 | 4 | 4 | 3 | 8 |\n",
    "| $w_i$   | 2 | 5 | 3 | 4 |10 |\n",
    "| $b_i$   | 1 | 0 | 1 | 1 | 0 |\n",
    "\n",
    "Với ví dụ ở bảng trên, các đồ vật sẽ được đem theo là ${1, 3, 4}$"
   ]
  },
  {
   "cell_type": "markdown",
   "metadata": {},
   "source": [
    "### Mã hóa hoán vị:\n",
    "\n",
    "Ví dụ: Bài toán người đi du lịch **Traveling Salesman Problem - TSP**  \n",
    "Một người từ thành phố $1$ muốn tham quan các thành phố $2, 3, .. n$ và quay trở lại thành phố ban đầu, biết chi phí giữa mỗi thành phố, tìm hành trình tốn ít chi phí nhất.  \n",
    "  \n",
    "Mã hóa cho lời giải là một dãy số là hoán vị của $1, 2, 3, ... n$.  \n",
    "\n",
    "| 1 | 3 | 2 | 5 | 4 |\n",
    "|:-:|:-:|:-:|:-:|:-:|\n",
    "\n",
    "Với ví dụ bảng trên, hành trình sẽ là $1 \\to 3 \\to 2 \\to 5 \\to 4 \\to 1$\n",
    "\n"
   ]
  },
  {
   "cell_type": "markdown",
   "metadata": {},
   "source": [
    "### Mã hóa kề\n",
    "\n",
    "Ví dụ: Bài toán người du lịch.  \n",
    "Ta có một cách mã hóa khác, được mô tả như sau.  \n",
    "Nếu hành trình di chuyển từ $i \\to j$, thì vị trí thứ $i$ nhận giá trị $j$.  \n",
    "Với hành trình $1 \\to 3 \\to 2 \\to 5 \\to 4 \\to 1$ ta mã hóa như sau:\n",
    "\n",
    "| 3 | 5 | 2 | 1 | 4 |\n",
    "|:-:|:-:|:-:|:-:|:-:|"
   ]
  },
  {
   "cell_type": "markdown",
   "metadata": {},
   "source": [
    "### Mã hóa số thực\n",
    "\n",
    "Ví dụ: Tìm giá trị nhỏ nhất của hàm số $f(x, y, z) = xy + 3z^2 + 2$ trên tập $R$\n",
    "\n",
    "Mã hóa lời giải là bộ ba $(x, y, z)$, giả sử$ (x, y, z) = (1.2, 3, 2.1)$ ta mã hóa như sau:\n",
    "\n",
    "| 1.2 | 3.0 | 2.1 | \n",
    "|:---:|:---:|:---:|"
   ]
  },
  {
   "cell_type": "markdown",
   "metadata": {},
   "source": [
    "Tổng quát lại ta có thể thấy các cách mã hóa ở trên có một điểm chung là một dãy số, trong lập trình ta sẽ dùng **vector** để biểu diễn kiểu gen.\n",
    "\n",
    "Chúng ta có thể sử dụng mã hóa số thực để mã hóa cho tất cả các kiểu trên\n",
    "\n",
    "Ví dụ với mã hóa nhị phân, ta lấy ngẫu nhiên một số thực $[0, 0.5)$ để biểu thị $0$ và một số thực ngẫu nhiên $[0.5, 1]$ để biểu thị $1$\n",
    "\n",
    "| Đồ vật  | 1 | 2 | 3 | 4 | 5 |\n",
    "|:-------:|:-:|:-:|:-:|:-:|:-:|\n",
    "| $v_i$   | 1 | 4 | 4 | 3 | 8 |\n",
    "| $w_i$   | 2 | 5 | 3 | 4 |10 |\n",
    "| $b_i$   | 1 | 0 | 1 | 1 | 0 |\n",
    "| $Real $   |0.6|0.2|0.7|0.9|0.1|\n",
    "\n",
    "Với kiểu mã hóa này, ta sẽ đơn giản hơn trong việc thực hiện việc chọn lọc quần thể, thực hiện lai ghép (crossover) và thực hiện đột biến cá thể (mutation). Tuy nhiên, với việc mã hóa này thì ta cần một hàm giải mã **decode**\n",
    "\n"
   ]
  },
  {
   "cell_type": "markdown",
   "metadata": {},
   "source": [
    "## Các phương pháp chọn lọc cá thể cha mẹ"
   ]
  },
  {
   "cell_type": "markdown",
   "metadata": {},
   "source": [
    "### Chọn lọc ngẫu nhiên - random selection - RS\n",
    "\n",
    "Lấy ngẫu nhiên một số lượng cá thể trong tập quần thể (population) để bổ sung vào tập cha mẹ (listParent)"
   ]
  },
  {
   "cell_type": "markdown",
   "metadata": {},
   "source": [
    "### Chọn lọc theo giá trị thích nghi - fitness proportion selection - FPS\n",
    "\n",
    "#### Bánh xe Roulete:  \n",
    "\n",
    "Từ tập các giá trị thích nghi $(f_1, f_2, ..., f_n)$ chuyển sang tập giá trị xác suất $(p_1, p_2, ..., p_n)$ sau đó tiến hành chọn trên tập xác suất.\n",
    "\n",
    "#### Chọn lọc giao đấu - tournament selection: \n",
    "\n",
    "Chọn ngẫu nhiên $k$ cá thể từ quần thể, dựa vào độ thích nghi, chọn ra cá thể tốt nhất. Lặp lại cho tới khi đủ số lượng cha mẹ.\n",
    "\n",
    "#### Chọn lọc thứ hạng - rank selection: \n",
    "Sắp xếp lại giá trị thích nghi, với mỗi cá thể có một hạng ${1, 2, ..., n}$ chuyển sang tập xác suất rồi tiến hành chọn trên tập xác suất."
   ]
  },
  {
   "cell_type": "markdown",
   "metadata": {},
   "source": [
    "## Độ thích nghi\n"
   ]
  },
  {
   "cell_type": "markdown",
   "metadata": {},
   "source": [
    "### Độ thích nghi tiêu chuẩn: \n",
    "Với mỗi cá thể $i$ có một giá trị thích nghi $f_i$.  \n",
    "Độ thích nghi tiêu chuẩn là $F_i = \\frac{f_i}{\\sum{f_i}}$ \n",
    "\n",
    "### Độ thích nghi xếp hạng: \n",
    "Với mỗi cá thể $i$ sẽ có giá trị thích nghi $f_i$, hạng $j$.  \n",
    "Độ thích nghi xếp hạng: $F_i = p\\times(1 - p)^{j - 1}$, với $p \\in [0, 1]$ được gọi là độ hút\n",
    "\n",
    "### Độ thích nghi xếp hạng dựa trên khoảng cách phân ly:\n",
    "Với mỗi cá thể $i$ sẽ có giá trị thích nghi $f_i$. Độ phân ly $P_i = \\sum_{i \\neq j}{\\frac{1}{|f_i - f_j|}}$\n",
    "\n",
    "Với mỗi cá thể $i$ có hạng $j$ theo giá trị thích nghi $f_i$ và hạng $k$ dựa trên độ phân ly $P_i$, khi đó cá thể này có tổng điểm là $L_i = j + k$, cá thể sẽ được xếp hạng $L_i$ dựa trên tổng điểm.\n",
    "Khi đó cá thể sẽ có độ thích nghi dựa trên khoảng cách phân ly: $F_i = \\frac{L_i}{\\sum{L_i}}$\n",
    "\n",
    "\n",
    "Các tập giá trị khi quy sang độ thích nghi tiêu chuẩn(xếp hạng) ta sẽ nhận được giá trị thuộc $[0, 1]$, như vậy trong quá trình chọn lọc sẽ khá giống với **chọn lọc Roulete**\n"
   ]
  },
  {
   "cell_type": "markdown",
   "metadata": {},
   "source": [
    "## Các kiểu lai ghép (crossover)"
   ]
  },
  {
   "cell_type": "markdown",
   "metadata": {},
   "source": [
    "### Lai ghép với mã hóa nhị phân\n",
    "\n",
    "#### Lai ghép một điểm cắt (One-point crossover)\n",
    "\n",
    "Ví dụ: Lai ghép một điểm cắt, chọn ra một điểm cắt để chia kiểu gen của cha mẹ thành 2 phần, sau đó hoán vị các đoạn gen của 2 cá thể cha mẹ cho nhau.  \n",
    "Đầu vào:\n",
    "| b     | 0 | 0 | 0 | 1 | 1 | 1 | 1 | 1 |\n",
    "|:-----:|:-:|:-:|:-:|:-:|:-:|:-:|:-:|:-:|\n",
    "| p1    | 1 | 0 | 0 | 0 | 1 | 0 | 1 | 0 |\n",
    "| p2    | 0 | 1 | 1 | 1 | 0 | 1 | 0 | 0 |\n",
    "\n",
    "Kết quả:\n",
    "| b     | 0 | 0 | 0 | 1 | 1 | 1 | 1 | 1 |\n",
    "|:-----:|:-:|:-:|:-:|:-:|:-:|:-:|:-:|:-:|\n",
    "| c1    | 1 | 0 | 0 | 1 | 0 | 1 | 0 | 0 |\n",
    "| c2    | 0 | 1 | 1 | 0 | 1 | 0 | 1 | 0 |\n",
    "\n",
    "#### Lai ghép đa điểm cắt\n",
    "\n",
    "Ví dụ: Lai ghép 3 điểm cắt, chọn ra ba điểm cắt, theo thứ tự xen kẽ, hoán đổi các đoạn gen cha mẹ cho nhau.  \n",
    "| b     | 0 | 0 | 0 | 1 | 1 | 1 | 0 | 0 |\n",
    "|:-----:|:-:|:-:|:-:|:-:|:-:|:-:|:-:|:-:|\n",
    "| p1    | 1 | 0 | 0 | 0 | 1 | 0 | 1 | 0 |\n",
    "| p2    | 0 | 1 | 1 | 1 | 0 | 1 | 0 | 0 |\n",
    "\n",
    "Kết quả:\n",
    "| b     | 0 | 0 | 0 | 1 | 1 | 1 | 0 | 0 |\n",
    "|:-----:|:-:|:-:|:-:|:-:|:-:|:-:|:-:|:-:|\n",
    "| c1    | 1 | 0 | 0 | 1 | 0 | 1 | 1 | 0 |\n",
    "| c2    | 0 | 1 | 1 | 0 | 1 | 0 | 0 | 0 |\n",
    "\n",
    "#### Lai ghép đồng nhất (uniform crossover)\n",
    "\n",
    "Lai ghép đồng nhất hiểu đơn giản là từng phần tử trong kiểu gen có một xác xuất $p$ được hoán đổi cho nhau.  \n",
    "Ví dụ:  \n",
    "Đầu vào:\n",
    "| b     | 1 | 0 | 1 | 1 | 0 | 0 | 1 | 0 |\n",
    "|:-----:|:-:|:-:|:-:|:-:|:-:|:-:|:-:|:-:|\n",
    "| p1    | 1 | 0 | 0 | 0 | 1 | 0 | 1 | 0 |\n",
    "| p2    | 0 | 1 | 1 | 1 | 0 | 1 | 0 | 0 |\n",
    "\n",
    "Kết quả:\n",
    "| b     | 1 | 0 | 1 | 1 | 0 | 0 | 1 | 0 |\n",
    "|:-----:|:-:|:-:|:-:|:-:|:-:|:-:|:-:|:-:|\n",
    "| p1    | 0 | 0 | 1 | 1 | 1 | 0 | 0 | 0 |\n",
    "| p2    | 1 | 1 | 0 | 0 | 0 | 1 | 1 | 0 |\n"
   ]
  },
  {
   "cell_type": "markdown",
   "metadata": {},
   "source": [
    "### Lai ghép với mã hóa hoán vị\n",
    "\n",
    "#### Lai ghép theo thứ tự (order crossover)\n",
    "Ví dụ:\n",
    "Đầu vào:\n",
    "| idx   | 1 | 2 | 3 | 4 | 5 | 6 | 7 | 8 |\n",
    "|:-----:|:-:|:-:|:-:|:-:|:-:|:-:|:-:|:-:|\n",
    "| p1    | 2 | 1 | 5 | 3 | 7 | 6 | 4 | 8 |\n",
    "| p2    | 4 | 2 | 3 | 7 | 1 | 5 | 8 | 6 |\n",
    "\n",
    "B0. Khởi tạo $c1, c2$\n",
    "| idx   | 1 | 2 | 3 | 4 | 5 | 6 | 7 | 8 |\n",
    "|:-----:|:-:|:-:|:-:|:-:|:-:|:-:|:-:|:-:|\n",
    "| c1    |   |   |   |   |   |   |   |   |\n",
    "| c2    |   |   |   |   |   |   |   |   |\n",
    "\n",
    "B1. Chọn ngẫu một đoạn idx, sao chép giá trị tại vị trí của $p1$ vào $c1$, sao chép giá trị tại các vị trí của $p2$ vào $c2$\n",
    "| idx   | 1 | 2 | 3 | 4 | 5 | 6 | 7 | 8 |\n",
    "|:-----:|:-:|:-:|:-:|:-:|:-:|:-:|:-:|:-:|\n",
    "| p1    | 2 | 1 | 5 | 3 | 7 | 6 | 4 | 8 |\n",
    "| c1    |   |   | 5 | 3 | 7 | 6 |   |   |\n",
    "| p2    | 4 | 2 | 3 | 7 | 1 | 5 | 8 | 6 |\n",
    "| c2    |   |   | 3 | 7 | 1 | 5 |   |   |\n",
    "\n",
    "\n",
    "B2. Xác định thứ tự tính từ vị trí cắt thứ 2 là $(7)$ của $p2, p1$\n",
    "| idx   | 7 | 8 | 1 | 2 | 3 | 4 | 5 | 6 |\n",
    "|:-----:|:-:|:-:|:-:|:-:|:-:|:-:|:-:|:-:|\n",
    "| p2    | 8 | 6 | 4 | 2 | 3 | 7 | 1 | 5 |\n",
    "| p1    | 4 | 8 | 2 | 1 | 5 | 3 | 7 | 6 |\n",
    "\n",
    "B3. Loại bỏ các phẩn tử của $p2$ đã xuất hiện trong $c1$ và loại bỏ các phần tử của $p1$ đã xuất hiện trong $c2$\n",
    "| idx   | 7 | 8 | 1 | 2 | 3 | 4 | 5 | 6 |\n",
    "|:-----:|:-:|:-:|:-:|:-:|:-:|:-:|:-:|:-:|\n",
    "| p2    | 8 |   | 4 | 2 |   |   | 1 |   |\n",
    "| p1    | 4 | 8 | 2 |   |   |   |   | 6 |\n",
    "\n",
    "B4. Ghép chuỗi còn lại của $p2$ bắt đầu từ vị trí cắt thứ 2 $(7)$ vào $c1$ và của $p1$ vào $c2$\n",
    "| idx   | 1 | 2 | 3 | 4 | 5 | 6 | 7 | 8 |\n",
    "|:-----:|:-:|:-:|:-:|:-:|:-:|:-:|:-:|:-:|\n",
    "| c1    | 2 | 1 | 5 | 3 | 7 | 6 | 8 | 4 |\n",
    "| c2    | 2 | 6 | 3 | 7 | 1 | 5 | 4 | 8 |\n",
    "\n",
    "Kết quả: \n",
    "| idx   | 1 | 2 | 3 | 4 | 5 | 6 | 7 | 8 |\n",
    "|:-----:|:-:|:-:|:-:|:-:|:-:|:-:|:-:|:-:|\n",
    "| c1    | 2 | 1 | 5 | 3 | 7 | 6 | 8 | 4 |\n",
    "| c2    | 2 | 6 | 3 | 7 | 1 | 5 | 4 | 8 |\n",
    "\n",
    "\n",
    "#### Lai ghép ánh xạ từng phân (Partially Mapped Crossover)\n",
    "\n",
    "Ví dụ:\n",
    "Đầu vào:\n",
    "| idx   | 1 | 2 | 3 | 4 | 5 | 6 | 7 | 8 |\n",
    "|:-----:|:-:|:-:|:-:|:-:|:-:|:-:|:-:|:-:|\n",
    "| p1    | 2 | 1 | 5 | 3 | 7 | 6 | 4 | 8 |\n",
    "| p2    | 4 | 2 | 3 | 7 | 1 | 5 | 8 | 6 |\n",
    "\n",
    "B0. Khởi tạo $c1, c2$\n",
    "| idx   | 1 | 2 | 3 | 4 | 5 | 6 | 7 | 8 |\n",
    "|:-----:|:-:|:-:|:-:|:-:|:-:|:-:|:-:|:-:|\n",
    "| c1    |   |   |   |   |   |   |   |   |\n",
    "| c2    |   |   |   |   |   |   |   |   |\n",
    "\n",
    "B1. Chọn ngẫu một đoạn idx, sao chép giá trị tại vị trí của $p1$ vào $c1$, sao chép giá trị tại các vị trí của $p2$ vào $c2$\n",
    "| idx   | 1 | 2 | 3 | 4 | 5 | 6 | 7 | 8 |\n",
    "|:-----:|:-:|:-:|:-:|:-:|:-:|:-:|:-:|:-:|\n",
    "| p1    | 2 | 1 | 5 | 3 | 7 | 6 | 4 | 8 |\n",
    "| c1    |   |   | 5 | 3 | 7 | 6 |   |   |\n",
    "| p2    | 4 | 2 | 3 | 7 | 1 | 5 | 8 | 6 |\n",
    "| c2    |   |   | 3 | 7 | 1 | 5 |   |   |\n",
    "\n",
    "B2. Thực hiện sao chép giá trị ở các vị trí còn trống từ $p2$ vào $c1$ và từ $p1$ vào $c2$ nếu như giá trị này chưa xuất hiện\n",
    "| idx   | 1 | 2 | 3 | 4 | 5 | 6 | 7 | 8 |\n",
    "|:-----:|:-:|:-:|:-:|:-:|:-:|:-:|:-:|:-:|\n",
    "| p2    | 4 | 2 | 3 | 7 | 1 | 5 | 8 | 6 |\n",
    "| c1    | 4 | 2 | 5 | 3 | 7 | 6 | 8 |   |\n",
    "| p1    | 2 | 1 | 5 | 3 | 7 | 6 | 4 | 8 |\n",
    "| c2    | 2 |   | 3 | 7 | 1 | 5 | 4 | 8 |\n",
    "\n",
    "B3. Thực hiện ánh xạ để xác định các phần tử còn lại.  \n",
    "Trong ví dụ trên, $c1$ đang thiếu phần tử ở vị trí $8$, $p2[8] = 6 (exist) \\to p2[6] = 5 (exist) \\to p2[5] = 1 (ok). \\to c1[8] = 1$  \n",
    "Trong ví dụ trên, $c2$ đang thiếu phần tử ở vị trí $2$, $p1[2] = 1 (exist) \\to p1[1] = 2 (exist) \\to p1[2] = 1 (ok). \\to c1[8] = 1$\n",
    "\n",
    "#### Lai ghép chu trình"
   ]
  },
  {
   "cell_type": "markdown",
   "metadata": {},
   "source": [
    "### Lai ghép với mã hóa số thực\n",
    "\n",
    "#### Lai ghép số thực đơn giản\n",
    "\n",
    "#### Lai ghép mô phỏng nhị phân"
   ]
  }
 ],
 "metadata": {
  "language_info": {
   "name": "python"
  }
 },
 "nbformat": 4,
 "nbformat_minor": 2
}
